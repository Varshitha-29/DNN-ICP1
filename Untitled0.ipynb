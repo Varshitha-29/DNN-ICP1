{
  "nbformat": 4,
  "nbformat_minor": 0,
  "metadata": {
    "colab": {
      "provenance": [],
      "authorship_tag": "ABX9TyMCnknUv+SVo0dp2kMIwhSc",
      "include_colab_link": true
    },
    "kernelspec": {
      "name": "python3",
      "display_name": "Python 3"
    },
    "language_info": {
      "name": "python"
    }
  },
  "cells": [
    {
      "cell_type": "markdown",
      "metadata": {
        "id": "view-in-github",
        "colab_type": "text"
      },
      "source": [
        "<a href=\"https://colab.research.google.com/github/Varshitha-29/DNN-ICP1/blob/main/Untitled0.ipynb\" target=\"_parent\"><img src=\"https://colab.research.google.com/assets/colab-badge.svg\" alt=\"Open In Colab\"/></a>"
      ]
    },
    {
      "cell_type": "code",
      "execution_count": 20,
      "metadata": {
        "colab": {
          "base_uri": "https://localhost:8080/"
        },
        "id": "GDIWS_YYfYxb",
        "outputId": "98fc95e8-ec75-4ad7-c8a6-901a8a53fb74"
      },
      "outputs": [
        {
          "output_type": "stream",
          "name": "stdout",
          "text": [
            "python\n",
            "htyp\n"
          ]
        }
      ],
      "source": [
        "#1 1\n",
        "s = str(input(\"Enter the input string : \"))\n",
        "s = s[0:-2][::-1]\n",
        "print(\"Resultant String: \",s)"
      ]
    },
    {
      "cell_type": "code",
      "source": [
        "#1 2\n",
        "x , y = [int(i) for i in input(\"Enter the numbers: \").split(\" \")]\n",
        "\n",
        "sum = x + y\n",
        "print(\"sum : \",sum)\n",
        "diff = x - y\n",
        "print(\"difference : \" , diff)\n",
        "prod = x * y\n",
        "print(\"product : \" , prod)\n",
        "div = x / y\n",
        "print(\"division : \" , div)"
      ],
      "metadata": {
        "colab": {
          "base_uri": "https://localhost:8080/"
        },
        "id": "8JL7oiGshbTj",
        "outputId": "6ba78bcb-5f51-4f43-b551-d5fa0802a0d0"
      },
      "execution_count": 22,
      "outputs": [
        {
          "output_type": "stream",
          "name": "stdout",
          "text": [
            "Enter the numbers: 3 2\n",
            "sum :  5\n",
            "difference :  1\n",
            "product :  6\n",
            "division :  1.5\n"
          ]
        }
      ]
    },
    {
      "cell_type": "code",
      "source": [
        "#2\n",
        "str1 = input(\"Enter a string: \")\n",
        "print(\"Replaced String : \",str1.replace('python' , 'pythons')) # replace is a built in function to replace a string with a new string"
      ],
      "metadata": {
        "colab": {
          "base_uri": "https://localhost:8080/"
        },
        "id": "wu3QAJbPj11I",
        "outputId": "a23868b2-3796-4f47-e90c-2370516ef587"
      },
      "execution_count": 24,
      "outputs": [
        {
          "output_type": "stream",
          "name": "stdout",
          "text": [
            "Enter a string: I love playing with python\n",
            "Replaced String :  I love playing with pythons\n"
          ]
        }
      ]
    },
    {
      "cell_type": "code",
      "source": [
        "#3\n",
        "grade = int(input(\"Enter Class Score : \"))\n",
        "if(grade >= 90 and grade <= 100):\n",
        "  print(\"Grade A\")\n",
        "elif(grade >= 80 and grade <= 89):\n",
        "  print(\"Grade B\")\n",
        "elif(grade >= 70 and grade <= 79):\n",
        "  print(\"Grade C\")\n",
        "elif(grade >= 60 and grade <= 69):\n",
        "  print(\"Grade D\")\n",
        "elif(grade < 60):\n",
        "  print(\"Grade F\")\n",
        "else:\n",
        "  print(\"Invalid Input\")"
      ],
      "metadata": {
        "colab": {
          "base_uri": "https://localhost:8080/"
        },
        "id": "kecISh3SlIvB",
        "outputId": "a32f47a9-1c9b-4a33-d19e-09fa5fc9f8bd"
      },
      "execution_count": 27,
      "outputs": [
        {
          "output_type": "stream",
          "name": "stdout",
          "text": [
            "Enter Class Score : 70\n",
            "Grade C\n"
          ]
        }
      ]
    }
  ]
}